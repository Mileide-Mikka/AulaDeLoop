{
  "nbformat": 4,
  "nbformat_minor": 0,
  "metadata": {
    "colab": {
      "provenance": [],
      "authorship_tag": "ABX9TyM7jXMMLYEDsNbnP2k432l/",
      "include_colab_link": true
    },
    "kernelspec": {
      "name": "python3",
      "display_name": "Python 3"
    },
    "language_info": {
      "name": "python"
    }
  },
  "cells": [
    {
      "cell_type": "markdown",
      "metadata": {
        "id": "view-in-github",
        "colab_type": "text"
      },
      "source": [
        "<a href=\"https://colab.research.google.com/github/Mileide-Mikka/AulaDeLoop/blob/main/AulaDeLoop.ipynb\" target=\"_parent\"><img src=\"https://colab.research.google.com/assets/colab-badge.svg\" alt=\"Open In Colab\"/></a>"
      ]
    },
    {
      "cell_type": "code",
      "source": [
        "#lista de filmes\n",
        "movies = [\"filme1\", \"filme2\", \"filme3\", \"filme4\", \"filme5\"]\n",
        "\n",
        "#mensagens de boas-vindas\n",
        "print(\"Bem vindo a classificação de filmes!\")\n",
        "print(\"você tem cinco filmes para classificar\")\n",
        "print(\"Digite '0' a qualquer momento para parar.\\n\")\n",
        "\n",
        "# loop para iterar sobre cada filme na lista\n",
        "for movie in movies:\n",
        "  #solicita a classificação do usuário\n",
        "  classification = input(f\"Como você calssificaria '{movie}' de 1 a 5? (Digite 0 para sair): \")\n",
        "\n",
        "  #verifica se o usuario deseja parar\n",
        "  if classification == '0':\n",
        "    print(\"Que pena que você não irá classificar mais os filmes.\")\n",
        "    break #encerra o loop principal\n",
        "\n",
        "  #converte a classificação para um número inteiro\n",
        "  classification = int(classification)\n",
        "\n",
        "  #verifica se a classificação esta dentro do intervalo válido\n",
        "  if classification< 1 or classification > 5:\n",
        "    print(\"Parece que voce digitou um valor errado, por favor digite um valor valido de 1 à 5.\")\n",
        "  else:\n",
        "    # Exibir a classificação e passa para o proximo filme\n",
        "    print(f\"Você classificou '{movie}' com {classification} estrelas. \\n\")\n",
        "\n",
        "# Mensagem de agradecimento ao finalizar\n",
        "print(\"Obrigado por classificar os filmes!, nos vemos na próxima.\")"
      ],
      "metadata": {
        "colab": {
          "base_uri": "https://localhost:8080/"
        },
        "id": "DCJ2kMD0t4Bs",
        "outputId": "dc0d6fc3-88ac-431c-cd08-5f0dff839998"
      },
      "execution_count": null,
      "outputs": [
        {
          "output_type": "stream",
          "name": "stdout",
          "text": [
            "Bem vindo a classificação de filmes!\n",
            "você tem cinco filmes para classificar\n",
            "Digite '0' a qualquer momento para parar.\n",
            "\n",
            "Como você calssificaria 'filme1' de 1 a 5? (Digite 0 para sair): 6\n",
            "Parece que voce digitou um valor errado, por favor digite um valor valido de 1 à 5.\n",
            "Como você calssificaria 'filme2' de 1 a 5? (Digite 0 para sair): 0\n",
            "Que pena que voce não irá classificar mais os filmes.\n",
            "Obrigado por classificar os filmes!, nos vemos na próxima.\n"
          ]
        }
      ]
    }
  ]
}